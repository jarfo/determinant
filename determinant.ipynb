{
 "cells": [
  {
   "cell_type": "code",
   "execution_count": 83,
   "metadata": {},
   "outputs": [],
   "source": [
    "import numpy as np\n",
    "import sympy as sp\n",
    "from sympy.abc import lamda\n",
    "from determinant import *"
   ]
  },
  {
   "cell_type": "code",
   "execution_count": 84,
   "metadata": {},
   "outputs": [],
   "source": [
    "n = 3"
   ]
  },
  {
   "cell_type": "code",
   "execution_count": 85,
   "metadata": {},
   "outputs": [
    {
     "data": {
      "text/latex": [
       "$\\displaystyle \\left[\\begin{matrix}a_{0 0} & a_{0 1} & a_{0 2}\\\\a_{1 0} & a_{1 1} & a_{1 2}\\\\a_{2 0} & a_{2 1} & a_{2 2}\\end{matrix}\\right]$"
      ],
      "text/plain": [
       "Matrix([\n",
       "[a_0_0, a_0_1, a_0_2],\n",
       "[a_1_0, a_1_1, a_1_2],\n",
       "[a_2_0, a_2_1, a_2_2]])"
      ]
     },
     "execution_count": 85,
     "metadata": {},
     "output_type": "execute_result"
    }
   ],
   "source": [
    "A = sp.Matrix(sp.symarray('a', (n, n)))\n",
    "A"
   ]
  },
  {
   "cell_type": "code",
   "execution_count": 86,
   "metadata": {},
   "outputs": [
    {
     "data": {
      "text/latex": [
       "$\\displaystyle \\left[\\begin{matrix}0 & 0 & 0 & 0 & 0 & 0 & 0\\\\a_{1 0} & a_{1 1} & a_{1 2} & 0 & 0 & 0 & 0\\\\a_{2 0} & a_{2 1} & a_{2 2} & 0 & 0 & 0 & 0\\\\- a_{0 0} & - a_{0 1} & - a_{0 2} & 0 & 0 & 0 & 0\\\\0 & 0 & 0 & a_{2 1} & a_{2 2} & 0 & 0\\\\- a_{0 0} & - a_{0 1} & - a_{0 2} & - a_{1 1} & - a_{1 2} & 0 & 0\\\\- a_{0 0} & - a_{0 1} & - a_{0 2} & - a_{1 1} & - a_{1 2} & - a_{2 2} & 0\\end{matrix}\\right]$"
      ],
      "text/plain": [
       "Matrix([\n",
       "[     0,      0,      0,      0,      0,      0, 0],\n",
       "[ a_1_0,  a_1_1,  a_1_2,      0,      0,      0, 0],\n",
       "[ a_2_0,  a_2_1,  a_2_2,      0,      0,      0, 0],\n",
       "[-a_0_0, -a_0_1, -a_0_2,      0,      0,      0, 0],\n",
       "[     0,      0,      0,  a_2_1,  a_2_2,      0, 0],\n",
       "[-a_0_0, -a_0_1, -a_0_2, -a_1_1, -a_1_2,      0, 0],\n",
       "[-a_0_0, -a_0_1, -a_0_2, -a_1_1, -a_1_2, -a_2_2, 0]])"
      ]
     },
     "execution_count": 86,
     "metadata": {},
     "output_type": "execute_result"
    }
   ],
   "source": [
    "sp.Matrix(DPmatrix(A)[0])"
   ]
  },
  {
   "cell_type": "code",
   "execution_count": 87,
   "metadata": {},
   "outputs": [
    {
     "data": {
      "text/latex": [
       "$\\displaystyle \\left[\\begin{matrix}0 & 0 & 0 & 0 & 0 & 0 & 0\\\\0 & 1 & 0 & 0 & 0 & 0 & 0\\\\0 & 0 & 1 & 0 & 0 & 0 & 0\\\\-1 & 0 & 0 & 0 & 0 & 0 & 0\\\\0 & 0 & 0 & 0 & 1 & 0 & 0\\\\-1 & 0 & 0 & -1 & 0 & 0 & 0\\\\-1 & 0 & 0 & -1 & 0 & -1 & 0\\end{matrix}\\right]$"
      ],
      "text/plain": [
       "Matrix([\n",
       "[ 0, 0, 0,  0, 0,  0, 0],\n",
       "[ 0, 1, 0,  0, 0,  0, 0],\n",
       "[ 0, 0, 1,  0, 0,  0, 0],\n",
       "[-1, 0, 0,  0, 0,  0, 0],\n",
       "[ 0, 0, 0,  0, 1,  0, 0],\n",
       "[-1, 0, 0, -1, 0,  0, 0],\n",
       "[-1, 0, 0, -1, 0, -1, 0]])"
      ]
     },
     "execution_count": 87,
     "metadata": {},
     "output_type": "execute_result"
    }
   ],
   "source": [
    "sp.Matrix(DPmatrix(sp.eye(n))[0])"
   ]
  },
  {
   "cell_type": "code",
   "execution_count": 88,
   "metadata": {},
   "outputs": [
    {
     "data": {
      "text/latex": [
       "$\\displaystyle \\operatorname{PurePoly}{\\left( \\lambda^{3} + \\left(- a_{0 0} - a_{1 1} - a_{2 2}\\right) \\lambda^{2} + \\left(a_{0 0} a_{1 1} + a_{0 0} a_{2 2} - a_{0 1} a_{1 0} - a_{0 2} a_{2 0} + a_{1 1} a_{2 2} - a_{1 2} a_{2 1}\\right) \\lambda -  a_{0 0} a_{1 1} a_{2 2} + a_{0 0} a_{1 2} a_{2 1} + a_{0 1} a_{1 0} a_{2 2} - a_{0 1} a_{1 2} a_{2 0} - a_{0 2} a_{1 0} a_{2 1} + a_{0 2} a_{1 1} a_{2 0}, \\lambda, domain=\\mathbb{Z}\\left[a_{0 0}, a_{0 1}, a_{0 2}, a_{1 0}, a_{1 1}, a_{1 2}, a_{2 0}, a_{2 1}, a_{2 2}\\right] \\right)}$"
      ],
      "text/plain": [
       "PurePoly(lamda**3 + (-a_0_0 - a_1_1 - a_2_2)*lamda**2 + (a_0_0*a_1_1 + a_0_0*a_2_2 - a_0_1*a_1_0 - a_0_2*a_2_0 + a_1_1*a_2_2 - a_1_2*a_2_1)*lamda - a_0_0*a_1_1*a_2_2 + a_0_0*a_1_2*a_2_1 + a_0_1*a_1_0*a_2_2 - a_0_1*a_1_2*a_2_0 - a_0_2*a_1_0*a_2_1 + a_0_2*a_1_1*a_2_0, lamda, domain='ZZ[a_0_0,a_0_1,a_0_2,a_1_0,a_1_1,a_1_2,a_2_0,a_2_1,a_2_2]')"
      ]
     },
     "execution_count": 88,
     "metadata": {},
     "output_type": "execute_result"
    }
   ],
   "source": [
    "CVcharpoly(A)"
   ]
  },
  {
   "cell_type": "markdown",
   "metadata": {},
   "source": [
    "**Clow sequences with the prefix property: Getting to Samuelson’s method**"
   ]
  },
  {
   "cell_type": "code",
   "execution_count": 89,
   "metadata": {},
   "outputs": [
    {
     "data": {
      "text/latex": [
       "$\\displaystyle a_{0 0} \\left(a_{1 1} a_{2 2} - a_{1 2} a_{2 1}\\right) + a_{1 0} \\left(a_{0 1} a_{1 1} + a_{0 2} a_{2 1}\\right) + a_{2 0} \\left(a_{0 1} a_{1 2} + a_{0 2} a_{2 2}\\right) + \\left(- a_{1 1} - a_{2 2}\\right) \\left(a_{0 1} a_{1 0} + a_{0 2} a_{2 0}\\right)$"
      ],
      "text/plain": [
       "a_0_0*(a_1_1*a_2_2 - a_1_2*a_2_1) + a_1_0*(a_0_1*a_1_1 + a_0_2*a_2_1) + a_2_0*(a_0_1*a_1_2 + a_0_2*a_2_2) + (-a_1_1 - a_2_2)*(a_0_1*a_1_0 + a_0_2*a_2_0)"
      ]
     },
     "metadata": {},
     "output_type": "display_data"
    },
    {
     "data": {
      "text/latex": [
       "$\\displaystyle a_{0 0} a_{1 1} a_{2 2} - a_{0 0} a_{1 2} a_{2 1} - a_{0 1} a_{1 0} a_{2 2} + a_{0 1} a_{1 2} a_{2 0} + a_{0 2} a_{1 0} a_{2 1} - a_{0 2} a_{1 1} a_{2 0}$"
      ],
      "text/plain": [
       "a_0_0*a_1_1*a_2_2 - a_0_0*a_1_2*a_2_1 - a_0_1*a_1_0*a_2_2 + a_0_1*a_1_2*a_2_0 + a_0_2*a_1_0*a_2_1 - a_0_2*a_1_1*a_2_0"
      ]
     },
     "metadata": {},
     "output_type": "display_data"
    }
   ],
   "source": [
    "display(CVdet(A))\n",
    "display(sp.expand(CVdet(A)))"
   ]
  },
  {
   "cell_type": "markdown",
   "metadata": {},
   "source": [
    "**Chistoy's Algorithm**"
   ]
  },
  {
   "cell_type": "code",
   "execution_count": 90,
   "metadata": {},
   "outputs": [
    {
     "data": {
      "text/latex": [
       "$\\displaystyle a_{0 0} \\left(a_{1 1}^{2} + a_{1 2} a_{2 1}\\right) + a_{0 0} \\left(a_{0 0}^{2} + a_{0 1} a_{1 0} + a_{0 2} a_{2 0}\\right) + a_{1 0} \\left(a_{0 0} a_{0 1} + a_{0 1} a_{1 1} + a_{0 2} a_{2 1}\\right) + a_{1 1} \\left(a_{1 1}^{2} + a_{1 2} a_{2 1}\\right) + a_{1 1} \\left(a_{0 0}^{2} + a_{0 1} a_{1 0} + a_{0 2} a_{2 0}\\right) + a_{2 0} \\left(a_{0 0} a_{0 2} + a_{0 1} a_{1 2} + a_{0 2} a_{2 2}\\right) + a_{2 1} \\left(a_{1 1} a_{1 2} + a_{1 2} a_{2 2}\\right) + a_{2 2}^{3} + a_{2 2}^{2} \\left(a_{0 0} + a_{1 1}\\right) + a_{2 2} \\left(a_{0 0}^{2} + a_{0 0} a_{1 1} + a_{0 1} a_{1 0} + a_{0 2} a_{2 0} + a_{1 1}^{2} + a_{1 2} a_{2 1}\\right) + \\left(- a_{0 0} - a_{1 1} - a_{2 2}\\right) \\left(a_{0 0}^{2} + a_{0 0} a_{1 1} + a_{0 1} a_{1 0} + a_{0 2} a_{2 0} + a_{1 1}^{2} + a_{1 2} a_{2 1} + a_{2 2}^{2} + a_{2 2} \\left(a_{0 0} + a_{1 1}\\right)\\right) + \\left(a_{0 0} + a_{1 1} + a_{2 2}\\right) \\left(- a_{0 0}^{2} - a_{0 0} a_{1 1} - a_{0 1} a_{1 0} - a_{0 2} a_{2 0} - a_{1 1}^{2} - a_{1 2} a_{2 1} - a_{2 2}^{2} - a_{2 2} \\left(a_{0 0} + a_{1 1}\\right) - \\left(- a_{0 0} - a_{1 1} - a_{2 2}\\right) \\left(a_{0 0} + a_{1 1} + a_{2 2}\\right)\\right)$"
      ],
      "text/plain": [
       "a_0_0*(a_1_1**2 + a_1_2*a_2_1) + a_0_0*(a_0_0**2 + a_0_1*a_1_0 + a_0_2*a_2_0) + a_1_0*(a_0_0*a_0_1 + a_0_1*a_1_1 + a_0_2*a_2_1) + a_1_1*(a_1_1**2 + a_1_2*a_2_1) + a_1_1*(a_0_0**2 + a_0_1*a_1_0 + a_0_2*a_2_0) + a_2_0*(a_0_0*a_0_2 + a_0_1*a_1_2 + a_0_2*a_2_2) + a_2_1*(a_1_1*a_1_2 + a_1_2*a_2_2) + a_2_2**3 + a_2_2**2*(a_0_0 + a_1_1) + a_2_2*(a_0_0**2 + a_0_0*a_1_1 + a_0_1*a_1_0 + a_0_2*a_2_0 + a_1_1**2 + a_1_2*a_2_1) + (-a_0_0 - a_1_1 - a_2_2)*(a_0_0**2 + a_0_0*a_1_1 + a_0_1*a_1_0 + a_0_2*a_2_0 + a_1_1**2 + a_1_2*a_2_1 + a_2_2**2 + a_2_2*(a_0_0 + a_1_1)) + (a_0_0 + a_1_1 + a_2_2)*(-a_0_0**2 - a_0_0*a_1_1 - a_0_1*a_1_0 - a_0_2*a_2_0 - a_1_1**2 - a_1_2*a_2_1 - a_2_2**2 - a_2_2*(a_0_0 + a_1_1) - (-a_0_0 - a_1_1 - a_2_2)*(a_0_0 + a_1_1 + a_2_2))"
      ]
     },
     "metadata": {},
     "output_type": "display_data"
    },
    {
     "data": {
      "text/latex": [
       "$\\displaystyle a_{0 0} a_{1 1} a_{2 2} - a_{0 0} a_{1 2} a_{2 1} - a_{0 1} a_{1 0} a_{2 2} + a_{0 1} a_{1 2} a_{2 0} + a_{0 2} a_{1 0} a_{2 1} - a_{0 2} a_{1 1} a_{2 0}$"
      ],
      "text/plain": [
       "a_0_0*a_1_1*a_2_2 - a_0_0*a_1_2*a_2_1 - a_0_1*a_1_0*a_2_2 + a_0_1*a_1_2*a_2_0 + a_0_2*a_1_0*a_2_1 - a_0_2*a_1_1*a_2_0"
      ]
     },
     "metadata": {},
     "output_type": "display_data"
    }
   ],
   "source": [
    "display(CHdet(A))\n",
    "display(sp.expand(CHdet(A)))"
   ]
  },
  {
   "cell_type": "code",
   "execution_count": 99,
   "metadata": {},
   "outputs": [
    {
     "data": {
      "text/latex": [
       "$\\displaystyle \\frac{a_{0 0} \\left(a_{0 0}^{2} + a_{0 1} a_{1 0} + a_{0 2} a_{2 0}\\right)}{3} + \\frac{a_{0 1} \\left(a_{0 0} a_{1 0} + a_{1 0} a_{1 1} + a_{1 2} a_{2 0}\\right)}{3} + \\frac{a_{0 2} \\left(a_{0 0} a_{2 0} + a_{1 0} a_{2 1} + a_{2 0} a_{2 2}\\right)}{3} + \\frac{a_{1 0} \\left(a_{0 0} a_{0 1} + a_{0 1} a_{1 1} + a_{0 2} a_{2 1}\\right)}{3} + \\frac{a_{1 1} \\left(a_{0 1} a_{1 0} + a_{1 1}^{2} + a_{1 2} a_{2 1}\\right)}{3} + \\frac{a_{1 2} \\left(a_{0 1} a_{2 0} + a_{1 1} a_{2 1} + a_{2 1} a_{2 2}\\right)}{3} + \\frac{a_{2 0} \\left(a_{0 0} a_{0 2} + a_{0 1} a_{1 2} + a_{0 2} a_{2 2}\\right)}{3} + \\frac{a_{2 1} \\left(a_{0 2} a_{1 0} + a_{1 1} a_{1 2} + a_{1 2} a_{2 2}\\right)}{3} + \\frac{a_{2 2} \\left(a_{0 2} a_{2 0} + a_{1 2} a_{2 1} + a_{2 2}^{2}\\right)}{3} + \\frac{\\left(- a_{0 0} - a_{1 1} - a_{2 2}\\right) \\left(a_{0 0}^{2} + 2 a_{0 1} a_{1 0} + 2 a_{0 2} a_{2 0} + a_{1 1}^{2} + 2 a_{1 2} a_{2 1} + a_{2 2}^{2}\\right)}{3} + \\frac{\\left(a_{0 0} + a_{1 1} + a_{2 2}\\right) \\left(- \\frac{a_{0 0}^{2}}{2} - a_{0 1} a_{1 0} - a_{0 2} a_{2 0} - \\frac{a_{1 1}^{2}}{2} - a_{1 2} a_{2 1} - \\frac{a_{2 2}^{2}}{2} - \\frac{\\left(- a_{0 0} - a_{1 1} - a_{2 2}\\right) \\left(a_{0 0} + a_{1 1} + a_{2 2}\\right)}{2}\\right)}{3}$"
      ],
      "text/plain": [
       "a_0_0*(a_0_0**2 + a_0_1*a_1_0 + a_0_2*a_2_0)/3 + a_0_1*(a_0_0*a_1_0 + a_1_0*a_1_1 + a_1_2*a_2_0)/3 + a_0_2*(a_0_0*a_2_0 + a_1_0*a_2_1 + a_2_0*a_2_2)/3 + a_1_0*(a_0_0*a_0_1 + a_0_1*a_1_1 + a_0_2*a_2_1)/3 + a_1_1*(a_0_1*a_1_0 + a_1_1**2 + a_1_2*a_2_1)/3 + a_1_2*(a_0_1*a_2_0 + a_1_1*a_2_1 + a_2_1*a_2_2)/3 + a_2_0*(a_0_0*a_0_2 + a_0_1*a_1_2 + a_0_2*a_2_2)/3 + a_2_1*(a_0_2*a_1_0 + a_1_1*a_1_2 + a_1_2*a_2_2)/3 + a_2_2*(a_0_2*a_2_0 + a_1_2*a_2_1 + a_2_2**2)/3 + (-a_0_0 - a_1_1 - a_2_2)*(a_0_0**2 + 2*a_0_1*a_1_0 + 2*a_0_2*a_2_0 + a_1_1**2 + 2*a_1_2*a_2_1 + a_2_2**2)/3 + (a_0_0 + a_1_1 + a_2_2)*(-a_0_0**2/2 - a_0_1*a_1_0 - a_0_2*a_2_0 - a_1_1**2/2 - a_1_2*a_2_1 - a_2_2**2/2 - (-a_0_0 - a_1_1 - a_2_2)*(a_0_0 + a_1_1 + a_2_2)/2)/3"
      ]
     },
     "metadata": {},
     "output_type": "display_data"
    },
    {
     "data": {
      "text/latex": [
       "$\\displaystyle a_{0 0} a_{1 1} a_{2 2} - a_{0 0} a_{1 2} a_{2 1} - a_{0 1} a_{1 0} a_{2 2} + a_{0 1} a_{1 2} a_{2 0} + a_{0 2} a_{1 0} a_{2 1} - a_{0 2} a_{1 1} a_{2 0}$"
      ],
      "text/plain": [
       "a_0_0*a_1_1*a_2_2 - a_0_0*a_1_2*a_2_1 - a_0_1*a_1_0*a_2_2 + a_0_1*a_1_2*a_2_0 + a_0_2*a_1_0*a_2_1 - a_0_2*a_1_1*a_2_0"
      ]
     },
     "metadata": {},
     "output_type": "display_data"
    }
   ],
   "source": [
    "display(FLdet(A))\n",
    "display(sp.expand(FLdet(A)))"
   ]
  },
  {
   "cell_type": "code",
   "execution_count": 92,
   "metadata": {},
   "outputs": [
    {
     "data": {
      "text/latex": [
       "$\\displaystyle a_{1 0} \\left(a_{0 1} a_{1 1} + a_{0 2} a_{2 1}\\right) + a_{1 1} \\left(- a_{0 1} a_{1 0} - a_{0 2} a_{2 0}\\right) + a_{2 0} \\left(a_{0 1} a_{1 2} + a_{0 2} a_{2 2}\\right) + a_{2 1} \\left(- a_{0 0} a_{1 2} + a_{1 2} a_{2 2}\\right) + a_{2 2} \\left(a_{0 0} a_{1 1} - a_{0 1} a_{1 0} - a_{0 2} a_{2 0} - a_{1 2} a_{2 1}\\right)$"
      ],
      "text/plain": [
       "a_1_0*(a_0_1*a_1_1 + a_0_2*a_2_1) + a_1_1*(-a_0_1*a_1_0 - a_0_2*a_2_0) + a_2_0*(a_0_1*a_1_2 + a_0_2*a_2_2) + a_2_1*(-a_0_0*a_1_2 + a_1_2*a_2_2) + a_2_2*(a_0_0*a_1_1 - a_0_1*a_1_0 - a_0_2*a_2_0 - a_1_2*a_2_1)"
      ]
     },
     "execution_count": 92,
     "metadata": {},
     "output_type": "execute_result"
    }
   ],
   "source": [
    "P = DPcharpoly(A)\n",
    "assert P == A.charpoly()\n",
    "DPdet(A)"
   ]
  },
  {
   "cell_type": "code",
   "execution_count": 93,
   "metadata": {},
   "outputs": [
    {
     "data": {
      "text/latex": [
       "$\\displaystyle a_{0 1} \\left(a_{1 0} a_{1 1} + a_{1 2} a_{2 0}\\right) + a_{0 2} \\left(a_{1 0} a_{2 1} + a_{2 0} a_{2 2}\\right) + a_{1 1} \\left(- a_{0 1} a_{1 0} - a_{0 2} a_{2 0}\\right) + a_{1 2} \\left(- a_{0 0} a_{2 1} + a_{2 1} a_{2 2}\\right) + a_{2 2} \\left(a_{0 0} a_{1 1} - a_{0 1} a_{1 0} - a_{0 2} a_{2 0} - a_{1 2} a_{2 1}\\right)$"
      ],
      "text/plain": [
       "a_0_1*(a_1_0*a_1_1 + a_1_2*a_2_0) + a_0_2*(a_1_0*a_2_1 + a_2_0*a_2_2) + a_1_1*(-a_0_1*a_1_0 - a_0_2*a_2_0) + a_1_2*(-a_0_0*a_2_1 + a_2_1*a_2_2) + a_2_2*(a_0_0*a_1_1 - a_0_1*a_1_0 - a_0_2*a_2_0 - a_1_2*a_2_1)"
      ]
     },
     "execution_count": 93,
     "metadata": {},
     "output_type": "execute_result"
    }
   ],
   "source": [
    "P = MPcharpoly(A)\n",
    "assert P == A.charpoly()\n",
    "MPdet(A)"
   ]
  },
  {
   "cell_type": "code",
   "execution_count": 94,
   "metadata": {},
   "outputs": [
    {
     "data": {
      "text/latex": [
       "$\\displaystyle \\operatorname{PurePoly}{\\left( \\lambda^{3} + \\left(- a_{0 0} - a_{1 1} - a_{2 2}\\right) \\lambda^{2} + \\left(a_{0 0} a_{1 1} + a_{0 0} a_{2 2} - a_{0 1} a_{1 0} - a_{0 2} a_{2 0} + a_{1 1} a_{2 2} - a_{1 2} a_{2 1}\\right) \\lambda -  a_{0 0} a_{1 1} a_{2 2} + a_{0 0} a_{1 2} a_{2 1} + a_{0 1} a_{1 0} a_{2 2} - a_{0 1} a_{1 2} a_{2 0} - a_{0 2} a_{1 0} a_{2 1} + a_{0 2} a_{1 1} a_{2 0}, \\lambda, domain=\\mathbb{Z}\\left[a_{0 0}, a_{0 1}, a_{0 2}, a_{1 0}, a_{1 1}, a_{1 2}, a_{2 0}, a_{2 1}, a_{2 2}\\right] \\right)}$"
      ],
      "text/plain": [
       "PurePoly(lamda**3 + (-a_0_0 - a_1_1 - a_2_2)*lamda**2 + (a_0_0*a_1_1 + a_0_0*a_2_2 - a_0_1*a_1_0 - a_0_2*a_2_0 + a_1_1*a_2_2 - a_1_2*a_2_1)*lamda - a_0_0*a_1_1*a_2_2 + a_0_0*a_1_2*a_2_1 + a_0_1*a_1_0*a_2_2 - a_0_1*a_1_2*a_2_0 - a_0_2*a_1_0*a_2_1 + a_0_2*a_1_1*a_2_0, lamda, domain='ZZ[a_0_0,a_0_1,a_0_2,a_1_0,a_1_1,a_1_2,a_2_0,a_2_1,a_2_2]')"
      ]
     },
     "execution_count": 94,
     "metadata": {},
     "output_type": "execute_result"
    }
   ],
   "source": [
    "def charpoly2(A):\n",
    "    n = A.shape[0]\n",
    "    I = sp.eye(n)\n",
    "    d = MPdet(lamda*I - A)\n",
    "    return sp.PurePoly(d, lamda)\n",
    "\n",
    "P = charpoly2(A)\n",
    "assert P == A.charpoly()\n",
    "P"
   ]
  },
  {
   "cell_type": "code",
   "execution_count": 95,
   "metadata": {},
   "outputs": [
    {
     "data": {
      "text/latex": [
       "$\\displaystyle \\operatorname{PurePoly}{\\left( \\lambda^{3} + \\left(- a_{0 0} - a_{1 1} - a_{2 2}\\right) \\lambda^{2} + \\left(a_{0 0} a_{1 1} + a_{0 0} a_{2 2} - a_{0 1} a_{1 0} - a_{0 2} a_{2 0} + a_{1 1} a_{2 2} - a_{1 2} a_{2 1}\\right) \\lambda -  a_{0 0} a_{1 1} a_{2 2} + a_{0 0} a_{1 2} a_{2 1} + a_{0 1} a_{1 0} a_{2 2} - a_{0 1} a_{1 2} a_{2 0} - a_{0 2} a_{1 0} a_{2 1} + a_{0 2} a_{1 1} a_{2 0}, \\lambda, domain=\\mathbb{Z}\\left[a_{0 0}, a_{0 1}, a_{0 2}, a_{1 0}, a_{1 1}, a_{1 2}, a_{2 0}, a_{2 1}, a_{2 2}\\right] \\right)}$"
      ],
      "text/plain": [
       "PurePoly(lamda**3 + (-a_0_0 - a_1_1 - a_2_2)*lamda**2 + (a_0_0*a_1_1 + a_0_0*a_2_2 - a_0_1*a_1_0 - a_0_2*a_2_0 + a_1_1*a_2_2 - a_1_2*a_2_1)*lamda - a_0_0*a_1_1*a_2_2 + a_0_0*a_1_2*a_2_1 + a_0_1*a_1_0*a_2_2 - a_0_1*a_1_2*a_2_0 - a_0_2*a_1_0*a_2_1 + a_0_2*a_1_1*a_2_0, lamda, domain='ZZ[a_0_0,a_0_1,a_0_2,a_1_0,a_1_1,a_1_2,a_2_0,a_2_1,a_2_2]')"
      ]
     },
     "execution_count": 95,
     "metadata": {},
     "output_type": "execute_result"
    }
   ],
   "source": [
    "def charpoly3(A):\n",
    "    n = A.shape[0]\n",
    "    m = (n*(n+1))//2 + 1\n",
    "    I = np.eye(m, dtype=object)\n",
    "    M, r, s = DPmatrix(A)\n",
    "    d = r @ (sp.Matrix(lamda*I - M.T)**-1).T * lamda**(n+1) @ s\n",
    "    d = sp.expand(d[0,0])\n",
    "    return sp.PurePoly(d, lamda)\n",
    "\n",
    "charpoly3(A) if n <= 3 else None"
   ]
  },
  {
   "cell_type": "code",
   "execution_count": 106,
   "metadata": {},
   "outputs": [
    {
     "data": {
      "text/latex": [
       "$\\displaystyle \\left[\\begin{matrix}0 & 0 & 0 & 0 & 0 & 0 & 0\\\\a_{1 0} & a_{1 1} & a_{1 2} & 0 & 0 & 0 & 0\\\\a_{2 0} & a_{2 1} & a_{2 2} & 0 & 0 & 0 & 0\\\\- a_{0 0} & - a_{0 1} & - a_{0 2} & 0 & 0 & 0 & 0\\\\0 & 0 & 0 & a_{2 1} & a_{2 2} & 0 & 0\\\\- a_{0 0} & - a_{0 1} & - a_{0 2} & - a_{1 1} & - a_{1 2} & 0 & 0\\\\- a_{0 0} & - a_{0 1} & - a_{0 2} & - a_{1 1} & - a_{1 2} & - a_{2 2} & 0\\end{matrix}\\right]$"
      ],
      "text/plain": [
       "Matrix([\n",
       "[     0,      0,      0,      0,      0,      0, 0],\n",
       "[ a_1_0,  a_1_1,  a_1_2,      0,      0,      0, 0],\n",
       "[ a_2_0,  a_2_1,  a_2_2,      0,      0,      0, 0],\n",
       "[-a_0_0, -a_0_1, -a_0_2,      0,      0,      0, 0],\n",
       "[     0,      0,      0,  a_2_1,  a_2_2,      0, 0],\n",
       "[-a_0_0, -a_0_1, -a_0_2, -a_1_1, -a_1_2,      0, 0],\n",
       "[-a_0_0, -a_0_1, -a_0_2, -a_1_1, -a_1_2, -a_2_2, 0]])"
      ]
     },
     "metadata": {},
     "output_type": "display_data"
    },
    {
     "data": {
      "text/latex": [
       "$\\displaystyle \\left[\\begin{matrix}0 & 0 & 0 & 0 & 0 & 0 & 1\\end{matrix}\\right]$"
      ],
      "text/plain": [
       "Matrix([[0, 0, 0, 0, 0, 0, 1]])"
      ]
     },
     "metadata": {},
     "output_type": "display_data"
    },
    {
     "data": {
      "text/latex": [
       "$\\displaystyle \\left[\\begin{matrix}1\\\\0\\\\0\\\\1\\\\0\\\\1\\\\1\\end{matrix}\\right]$"
      ],
      "text/plain": [
       "Matrix([\n",
       "[1],\n",
       "[0],\n",
       "[0],\n",
       "[1],\n",
       "[0],\n",
       "[1],\n",
       "[1]])"
      ]
     },
     "metadata": {},
     "output_type": "display_data"
    }
   ],
   "source": [
    "display(*[sp.Matrix(m) for m in DPmatrix(A)])"
   ]
  },
  {
   "cell_type": "code",
   "execution_count": 97,
   "metadata": {},
   "outputs": [
    {
     "data": {
      "text/latex": [
       "$\\displaystyle \\operatorname{PurePoly}{\\left( \\lambda^{3} + \\left(- a_{0 0} - a_{1 1} - a_{2 2}\\right) \\lambda^{2} + \\left(a_{0 0} a_{1 1} + a_{0 0} a_{2 2} - a_{0 1} a_{1 0} - a_{0 2} a_{2 0} + a_{1 1} a_{2 2} - a_{1 2} a_{2 1}\\right) \\lambda -  a_{0 0} a_{1 1} a_{2 2} + a_{0 0} a_{1 2} a_{2 1} + a_{0 1} a_{1 0} a_{2 2} - a_{0 1} a_{1 2} a_{2 0} - a_{0 2} a_{1 0} a_{2 1} + a_{0 2} a_{1 1} a_{2 0}, \\lambda, domain=\\mathbb{Z}\\left[a_{0 0}, a_{0 1}, a_{0 2}, a_{1 0}, a_{1 1}, a_{1 2}, a_{2 0}, a_{2 1}, a_{2 2}\\right] \\right)}$"
      ],
      "text/plain": [
       "PurePoly(lambda**3 + (-a_0_0 - a_1_1 - a_2_2)*lambda**2 + (a_0_0*a_1_1 + a_0_0*a_2_2 - a_0_1*a_1_0 - a_0_2*a_2_0 + a_1_1*a_2_2 - a_1_2*a_2_1)*lambda - a_0_0*a_1_1*a_2_2 + a_0_0*a_1_2*a_2_1 + a_0_1*a_1_0*a_2_2 - a_0_1*a_1_2*a_2_0 - a_0_2*a_1_0*a_2_1 + a_0_2*a_1_1*a_2_0, lambda, domain='ZZ[a_0_0,a_0_1,a_0_2,a_1_0,a_1_1,a_1_2,a_2_0,a_2_1,a_2_2]')"
      ]
     },
     "execution_count": 97,
     "metadata": {},
     "output_type": "execute_result"
    }
   ],
   "source": [
    "A.charpoly()"
   ]
  }
 ],
 "metadata": {
  "interpreter": {
   "hash": "aee8b7b246df8f9039afb4144a1f6fd8d2ca17a180786b69acc140d282b71a49"
  },
  "kernelspec": {
   "display_name": "Python 3.9.7 64-bit",
   "name": "python3"
  },
  "language_info": {
   "codemirror_mode": {
    "name": "ipython",
    "version": 3
   },
   "file_extension": ".py",
   "mimetype": "text/x-python",
   "name": "python",
   "nbconvert_exporter": "python",
   "pygments_lexer": "ipython3",
   "version": "3.9.7"
  },
  "orig_nbformat": 4
 },
 "nbformat": 4,
 "nbformat_minor": 2
}
